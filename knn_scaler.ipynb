{
 "cells": [
  {
   "cell_type": "code",
   "execution_count": 7,
   "metadata": {},
   "outputs": [
    {
     "name": "stdout",
     "output_type": "stream",
     "text": [
      "Results with Best Hyperparameters:\n",
      "Accuracy: 0.9808\n",
      "Precision: 1.0\n",
      "Recall: 0.7777777777777778\n",
      "F1-Score: 0.8750000000000001\n",
      "Area Under Curve: 0.9563266199649737\n",
      "RMSE: 0.13856406460551018\n"
     ]
    }
   ],
   "source": [
    "# Import pandas\n",
    "import pandas as pd\n",
    "import numpy as np\n",
    "from sklearn.model_selection import train_test_split\n",
    "from sklearn.neighbors import KNeighborsClassifier\n",
    "from sklearn.preprocessing import MinMaxScaler, StandardScaler, RobustScaler\n",
    "from sklearn.metrics import accuracy_score, precision_score, recall_score, f1_score, roc_auc_score\n",
    "from sklearn import metrics\n",
    "\n",
    "# Load the dataset\n",
    "df = pd.read_excel('C:\\\\Users\\\\a1787\\\\Documents\\\\00term4\\\\1(4880)IntroductiontoDataAnalysis\\\\assignment2\\\\Bank_Personal_Loan_Modelling.xlsx', sheet_name='Data')\n",
    "\n",
    "# Separate features and target variable\n",
    "X = df.copy()\n",
    "del X['Personal Loan']\n",
    "del X['ID']\n",
    "del X['ZIP Code']\n",
    "del X['Age']\n",
    "del X['Experience']\n",
    "\n",
    "# Target variable\n",
    "y = df['Personal Loan']\n",
    "\n",
    "# Replacing negative values with 0\n",
    "X[X < 0] = 0\n",
    "\n",
    "X['IncomeBin'] = pd.cut(x=df['Income'], bins=[0, 116, 225])\n",
    "X = pd.get_dummies(X, columns=['IncomeBin'])\n",
    "\n",
    "# Min-Max Scaling\n",
    "scaler = MinMaxScaler()\n",
    "X_scaled = scaler.fit_transform(X)\n",
    "\n",
    "# Split X and y into training and testing sets\n",
    "X_train, X_test, y_train, y_test = train_test_split(X_scaled, y, test_size=0.25, random_state=0)\n",
    "\n",
    "# Create a KNN classifier object\n",
    "model = KNeighborsClassifier(n_neighbors=17\n",
    "                             )\n",
    "\n",
    "# Train the model using the training dataset\n",
    "model.fit(X_train, y_train)\n",
    "\n",
    "# Predict the target variable for the test dataset\n",
    "predictions = model.predict(X_test)\n",
    "\n",
    "# Predictions on the test set\n",
    "predictions_prob = model.predict_proba(X_test)[:, 1]\n",
    "\n",
    "# Calculate model metrics\n",
    "accuracy = accuracy_score(y_test, predictions)\n",
    "precision = precision_score(y_test, predictions)\n",
    "recall = recall_score(y_test, predictions)\n",
    "f1 = f1_score(y_test, predictions)\n",
    "auc = roc_auc_score(y_test, predictions_prob)\n",
    "RMSE = np.sqrt(metrics.mean_squared_error(y_test, predictions))\n",
    "\n",
    "# Print the results\n",
    "print(\"Results with Best Hyperparameters:\")\n",
    "print(\"Accuracy:\", accuracy)\n",
    "print(\"Precision:\", precision)\n",
    "print(\"Recall:\", recall)\n",
    "print(\"F1-Score:\", f1)\n",
    "print(\"Area Under Curve:\", auc)\n",
    "print(f'RMSE: {RMSE}')"
   ]
  }
 ],
 "metadata": {
  "kernelspec": {
   "display_name": "base",
   "language": "python",
   "name": "python3"
  },
  "language_info": {
   "codemirror_mode": {
    "name": "ipython",
    "version": 3
   },
   "file_extension": ".py",
   "mimetype": "text/x-python",
   "name": "python",
   "nbconvert_exporter": "python",
   "pygments_lexer": "ipython3",
   "version": "3.9.17"
  }
 },
 "nbformat": 4,
 "nbformat_minor": 2
}
