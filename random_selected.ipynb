{
 "cells": [
  {
   "cell_type": "code",
   "execution_count": 11,
   "metadata": {},
   "outputs": [
    {
     "name": "stdout",
     "output_type": "stream",
     "text": [
      "Results with Best Hyperparameters(robust):\n",
      "Accuracy: 0.988\n",
      "Precision: 0.979381443298969\n",
      "Recall: 0.8796296296296297\n",
      "F1-Score: 0.926829268292683\n",
      "Area Under Curve: 0.9837598105986899\n"
     ]
    }
   ],
   "source": [
    "import pandas as pd\n",
    "from sklearn.model_selection import train_test_split\n",
    "from sklearn.ensemble import RandomForestClassifier\n",
    "from sklearn.preprocessing import MinMaxScaler, StandardScaler, RobustScaler\n",
    "from sklearn.metrics import accuracy_score, precision_score, recall_score, f1_score, roc_auc_score\n",
    "import time\n",
    "\n",
    "# Load the dataset\n",
    "df = pd.read_excel('C:\\\\Users\\\\a1787\\\\Documents\\\\00term4\\\\1(4880)IntroductiontoDataAnalysis\\\\assignment2\\\\Bank_Personal_Loan_Modelling.xlsx', sheet_name='Data')\n",
    "\n",
    "# Separate features and target variable\n",
    "X = df.copy()\n",
    "del X['Personal Loan']\n",
    "del X['ID']\n",
    "del X['ZIP Code']\n",
    "del X['Age']\n",
    "del X['Experience']\n",
    "\n",
    "# Target variable\n",
    "y = df['Personal Loan']\n",
    "\n",
    "# Replacing negative values with 0\n",
    "X[X < 0] = 0\n",
    "\n",
    "# Binning and one-hot encoding\n",
    "X['IncomeBin'] = pd.cut(x=df['Income'], bins=[0, 116, 225])\n",
    "X = pd.get_dummies(X, columns=['IncomeBin'])\n",
    "\n",
    "# Split the data into training and testing sets\n",
    "X_train, X_test, y_train, y_test = train_test_split(X, y, test_size=0.25, random_state=0)\n",
    "\n",
    "# Apply MinMax Scaler to the features\n",
    "# scaler = MinMaxScaler()\n",
    "# scaler = StandardScaler()\n",
    "scaler = RobustScaler()\n",
    "X_train_scaled = scaler.fit_transform(X_train)\n",
    "X_test_scaled = scaler.transform(X_test)\n",
    "\n",
    "# Train the Random Forest model with the given best hyperparameters\n",
    "classifier = RandomForestClassifier(n_estimators = 10, criterion = 'entropy', random_state = 0)\n",
    "classifier.fit(X_train_scaled, y_train)\n",
    "\n",
    "# Make predictions on the test set\n",
    "predictions = classifier.predict(X_test_scaled)\n",
    "\n",
    "# Evaluate the model\n",
    "accuracy = accuracy_score(y_test, predictions)\n",
    "precision = precision_score(y_test, predictions)\n",
    "recall = recall_score(y_test, predictions)\n",
    "f1 = f1_score(y_test, predictions)\n",
    "auc = roc_auc_score(y_test, classifier.predict_proba(X_test_scaled)[:, 1])\n",
    "\n",
    "# Print the results\n",
    "print(\"Results with Best Hyperparameters(robust):\")\n",
    "print(\"Accuracy:\", accuracy)\n",
    "print(\"Precision:\", precision)\n",
    "print(\"Recall:\", recall)\n",
    "print(\"F1-Score:\", f1)\n",
    "print(\"Area Under Curve:\", auc)"
   ]
  },
  {
   "cell_type": "markdown",
   "metadata": {},
   "source": []
  }
 ],
 "metadata": {
  "kernelspec": {
   "display_name": "base",
   "language": "python",
   "name": "python3"
  },
  "language_info": {
   "codemirror_mode": {
    "name": "ipython",
    "version": 3
   },
   "file_extension": ".py",
   "mimetype": "text/x-python",
   "name": "python",
   "nbconvert_exporter": "python",
   "pygments_lexer": "ipython3",
   "version": "3.9.17"
  }
 },
 "nbformat": 4,
 "nbformat_minor": 2
}
