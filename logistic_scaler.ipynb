{
 "cells": [
  {
   "cell_type": "code",
   "execution_count": 5,
   "metadata": {},
   "outputs": [
    {
     "name": "stdout",
     "output_type": "stream",
     "text": [
      "Results with Best Hyperparameters and standard Scaler:\n",
      "Accuracy: 0.9664\n",
      "Precision: 0.9125\n",
      "Recall: 0.6759259259259259\n",
      "F1-Score: 0.7765957446808511\n",
      "Area Under Curve: 0.9433741973146528\n",
      "RMSE: 0.1833030277982336\n"
     ]
    }
   ],
   "source": [
    "import pandas as pd\n",
    "import numpy as np\n",
    "from sklearn.model_selection import train_test_split\n",
    "from sklearn.linear_model import LogisticRegression\n",
    "from sklearn.preprocessing import MinMaxScaler, StandardScaler, RobustScaler\n",
    "from sklearn.metrics import accuracy_score, precision_score, recall_score, f1_score, roc_auc_score\n",
    "from sklearn import metrics\n",
    "from sklearn.exceptions import ConvergenceWarning\n",
    "import warnings\n",
    "\n",
    "# Load the dataset\n",
    "df = pd.read_excel('C:\\\\Users\\\\a1787\\\\Documents\\\\00term4\\\\1(4880)IntroductiontoDataAnalysis\\\\assignment2\\\\Bank_Personal_Loan_Modelling.xlsx', sheet_name='Data')\n",
    "\n",
    "# Separate features and target variable\n",
    "X = df.copy()\n",
    "del X['Personal Loan']\n",
    "del X['ID']\n",
    "del X['ZIP Code']\n",
    "del X['Age']\n",
    "del X['Experience']\n",
    "\n",
    "# Target variable\n",
    "y = df['Personal Loan']\n",
    "\n",
    "# Replacing negative values with 0\n",
    "X[X < 0] = 0\n",
    "\n",
    "# One-hot encode the 'IncomeBin' column\n",
    "X['IncomeBin'] = pd.cut(x=df['Income'], bins=[0, 116, 225])\n",
    "X = pd.get_dummies(X, columns=['IncomeBin'])\n",
    "\n",
    "# Split the data into training and testing sets\n",
    "X_train, X_test, y_train, y_test = train_test_split(X, y, test_size=0.25, random_state=0)\n",
    "\n",
    "# Apply MinMax Scaler\n",
    "# scaler = MinMaxScaler()\n",
    "# scaler = StandardScaler()\n",
    "scaler = RobustScaler()\n",
    "\n",
    "X_train_scaled = scaler.fit_transform(X_train)\n",
    "X_test_scaled = scaler.transform(X_test)\n",
    "\n",
    "# Ignore convergence warning during fitting\n",
    "warnings.filterwarnings(\"ignore\", category=ConvergenceWarning)\n",
    "\n",
    "# Logistic Regression model with specified hyperparameters\n",
    "model = LogisticRegression(penalty='l1', C=1000, solver='liblinear')\n",
    "\n",
    "# Train the model\n",
    "model.fit(X_train_scaled, y_train)\n",
    "\n",
    "# Predictions on the test set\n",
    "y_pred = model.predict(X_test_scaled)\n",
    "\n",
    "# Predicted probabilities for the positive class\n",
    "predictions_prob = model.predict_proba(X_test_scaled)[:, 1]\n",
    "\n",
    "# Calculate AUC\n",
    "auc = roc_auc_score(y_test, predictions_prob)\n",
    "\n",
    "# Calculate RMSE\n",
    "RMSE = np.sqrt(metrics.mean_squared_error(y_test, y_pred))\n",
    "\n",
    "# Print results\n",
    "print(\"Results with Best Hyperparameters and standard Scaler:\")\n",
    "print(\"Accuracy:\", accuracy_score(y_test, y_pred))\n",
    "print(\"Precision:\", precision_score(y_test, y_pred))\n",
    "print(\"Recall:\", recall_score(y_test, y_pred))\n",
    "print(\"F1-Score:\", f1_score(y_test, y_pred))\n",
    "print(\"Area Under Curve:\", auc)\n",
    "print(f'RMSE: {RMSE}')\n"
   ]
  }
 ],
 "metadata": {
  "kernelspec": {
   "display_name": "base",
   "language": "python",
   "name": "python3"
  },
  "language_info": {
   "codemirror_mode": {
    "name": "ipython",
    "version": 3
   },
   "file_extension": ".py",
   "mimetype": "text/x-python",
   "name": "python",
   "nbconvert_exporter": "python",
   "pygments_lexer": "ipython3",
   "version": "3.9.17"
  }
 },
 "nbformat": 4,
 "nbformat_minor": 2
}
